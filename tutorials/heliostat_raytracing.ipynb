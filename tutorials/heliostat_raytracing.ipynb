{
 "cells": [
  {
   "cell_type": "code",
   "execution_count": 34,
   "id": "initial_id",
   "metadata": {
    "collapsed": true,
    "ExecuteTime": {
     "end_time": "2024-05-22T07:33:53.274659Z",
     "start_time": "2024-05-22T07:33:53.266746Z"
    }
   },
   "outputs": [],
   "source": [
    "import torch\n",
    "import h5py\n",
    "import matplotlib.pyplot as plt\n",
    "from artist import ARTIST_ROOT\n",
    "from artist.scenario import Scenario\n",
    "from artist.raytracing.heliostat_tracing import HeliostatRayTracer"
   ]
  },
  {
   "cell_type": "code",
   "outputs": [
    {
     "name": "stdout",
     "output_type": "stream",
     "text": [
      "[\u001B[36m2024-05-22 09:33:53,276\u001B[0m][\u001B[34martist.scenario\u001B[0m][\u001B[32mINFO\u001B[0m] - Loading an ARTIST scenario HDF5 file. This scenario file is version 1.0.\u001B[0m\n",
      "[\u001B[36m2024-05-22 09:33:53,277\u001B[0m][\u001B[34martist.field.receiver_field\u001B[0m][\u001B[32mINFO\u001B[0m] - Loading a receiver field from an HDF5 file.\u001B[0m\n",
      "[\u001B[36m2024-05-22 09:33:53,277\u001B[0m][\u001B[34martist.field.receiver\u001B[0m][\u001B[32mINFO\u001B[0m] - Loading receiver1 from an HDF5 file.\u001B[0m\n",
      "[\u001B[36m2024-05-22 09:33:53,279\u001B[0m][\u001B[34martist.field.receiver\u001B[0m][\u001B[33mWARNING\u001B[0m] - No curvature in the east direction set for the receiver!\u001B[0m\n",
      "[\u001B[36m2024-05-22 09:33:53,279\u001B[0m][\u001B[34martist.field.receiver\u001B[0m][\u001B[33mWARNING\u001B[0m] - No curvature in the up direction set for the receiver!\u001B[0m\n",
      "[\u001B[36m2024-05-22 09:33:53,280\u001B[0m][\u001B[34martist.scene.light_source_array\u001B[0m][\u001B[32mINFO\u001B[0m] - Loading a light source array from an HDF5 file.\u001B[0m\n",
      "[\u001B[36m2024-05-22 09:33:53,280\u001B[0m][\u001B[34martist.scene.sun\u001B[0m][\u001B[32mINFO\u001B[0m] - Loading sun1 from an HDF5 file.\u001B[0m\n",
      "[\u001B[36m2024-05-22 09:33:53,282\u001B[0m][\u001B[34martist.scene.sun\u001B[0m][\u001B[32mINFO\u001B[0m] - Initializing a sun modeled with a multivariate normal distribution.\u001B[0m\n",
      "[\u001B[36m2024-05-22 09:33:53,287\u001B[0m][\u001B[34martist.scenario\u001B[0m][\u001B[33mWARNING\u001B[0m] - No kinematic prototype initial_kinematic_orientation_offset_n set.Using default values!\u001B[0m\n",
      "[\u001B[36m2024-05-22 09:33:53,287\u001B[0m][\u001B[34martist.scenario\u001B[0m][\u001B[33mWARNING\u001B[0m] - No kinematic prototype initial_kinematic_orientation_offset_u set.Using default values!\u001B[0m\n",
      "[\u001B[36m2024-05-22 09:33:53,288\u001B[0m][\u001B[34martist.scenario\u001B[0m][\u001B[33mWARNING\u001B[0m] - No prototype kinematic first_joint_translation_e set. Using default values!\u001B[0m\n",
      "[\u001B[36m2024-05-22 09:33:53,288\u001B[0m][\u001B[34martist.scenario\u001B[0m][\u001B[33mWARNING\u001B[0m] - No prototype kinematic first_joint_translation_n set. Using default values!\u001B[0m\n",
      "[\u001B[36m2024-05-22 09:33:53,289\u001B[0m][\u001B[34martist.scenario\u001B[0m][\u001B[33mWARNING\u001B[0m] - No prototype kinematic first_joint_translation_u set. Using default values!\u001B[0m\n",
      "[\u001B[36m2024-05-22 09:33:53,289\u001B[0m][\u001B[34martist.scenario\u001B[0m][\u001B[33mWARNING\u001B[0m] - No prototype kinematic first_joint_tilt_e set. Using default values!\u001B[0m\n",
      "[\u001B[36m2024-05-22 09:33:53,289\u001B[0m][\u001B[34martist.scenario\u001B[0m][\u001B[33mWARNING\u001B[0m] - No prototype kinematic first_joint_tilt_n set. Using default values!\u001B[0m\n",
      "[\u001B[36m2024-05-22 09:33:53,290\u001B[0m][\u001B[34martist.scenario\u001B[0m][\u001B[33mWARNING\u001B[0m] - No prototype kinematic first_joint_tilt_u set. Using default values!\u001B[0m\n",
      "[\u001B[36m2024-05-22 09:33:53,290\u001B[0m][\u001B[34martist.scenario\u001B[0m][\u001B[33mWARNING\u001B[0m] - No prototype kinematic second_joint_translation_e set. Using default values!\u001B[0m\n",
      "[\u001B[36m2024-05-22 09:33:53,290\u001B[0m][\u001B[34martist.scenario\u001B[0m][\u001B[33mWARNING\u001B[0m] - No prototype kinematic second_joint_translation_n set. Using default values!\u001B[0m\n",
      "[\u001B[36m2024-05-22 09:33:53,291\u001B[0m][\u001B[34martist.scenario\u001B[0m][\u001B[33mWARNING\u001B[0m] - No prototype kinematic second_joint_translation_u set. Using default values!\u001B[0m\n",
      "[\u001B[36m2024-05-22 09:33:53,291\u001B[0m][\u001B[34martist.scenario\u001B[0m][\u001B[33mWARNING\u001B[0m] - No prototype kinematic second_joint_tilt_e set. Using default values!\u001B[0m\n",
      "[\u001B[36m2024-05-22 09:33:53,291\u001B[0m][\u001B[34martist.scenario\u001B[0m][\u001B[33mWARNING\u001B[0m] - No prototype kinematic second_joint_tilt_n set. Using default values!\u001B[0m\n",
      "[\u001B[36m2024-05-22 09:33:53,292\u001B[0m][\u001B[34martist.scenario\u001B[0m][\u001B[33mWARNING\u001B[0m] - No prototype kinematic second_joint_tilt_u set. Using default values!\u001B[0m\n",
      "[\u001B[36m2024-05-22 09:33:53,292\u001B[0m][\u001B[34martist.scenario\u001B[0m][\u001B[33mWARNING\u001B[0m] - No prototype kinematic concentrator_translation_e set. Using default values!\u001B[0m\n",
      "[\u001B[36m2024-05-22 09:33:53,292\u001B[0m][\u001B[34martist.scenario\u001B[0m][\u001B[33mWARNING\u001B[0m] - No prototype kinematic concentrator_translation_u set. Using default values!\u001B[0m\n",
      "[\u001B[36m2024-05-22 09:33:53,292\u001B[0m][\u001B[34martist.scenario\u001B[0m][\u001B[33mWARNING\u001B[0m] - No prototype kinematic concentrator_translation_n set. Using default values!\u001B[0m\n",
      "[\u001B[36m2024-05-22 09:33:53,293\u001B[0m][\u001B[34martist.scenario\u001B[0m][\u001B[33mWARNING\u001B[0m] - No prototype kinematic concentrator_tilt_e set. Using default values!\u001B[0m\n",
      "[\u001B[36m2024-05-22 09:33:53,293\u001B[0m][\u001B[34martist.scenario\u001B[0m][\u001B[33mWARNING\u001B[0m] - No prototype kinematic concentrator_tilt_n set. Using default values!\u001B[0m\n",
      "[\u001B[36m2024-05-22 09:33:53,293\u001B[0m][\u001B[34martist.scenario\u001B[0m][\u001B[33mWARNING\u001B[0m] - No prototype kinematic concentrator_tilt_u set. Using default values!\u001B[0m\n",
      "[\u001B[36m2024-05-22 09:33:53,294\u001B[0m][\u001B[34martist.scenario\u001B[0m][\u001B[33mWARNING\u001B[0m] - No prototype actuator_increment set for actuator1. Using default values!\u001B[0m\n",
      "[\u001B[36m2024-05-22 09:33:53,294\u001B[0m][\u001B[34martist.scenario\u001B[0m][\u001B[33mWARNING\u001B[0m] - No prototype initial_stroke_length set for actuator1. Using default values!\u001B[0m\n",
      "[\u001B[36m2024-05-22 09:33:53,295\u001B[0m][\u001B[34martist.scenario\u001B[0m][\u001B[33mWARNING\u001B[0m] - No prototype offset set for actuator1. Using default values!\u001B[0m\n",
      "[\u001B[36m2024-05-22 09:33:53,295\u001B[0m][\u001B[34martist.scenario\u001B[0m][\u001B[33mWARNING\u001B[0m] - No prototype radius set for actuator1. Using default values!\u001B[0m\n",
      "[\u001B[36m2024-05-22 09:33:53,295\u001B[0m][\u001B[34martist.scenario\u001B[0m][\u001B[33mWARNING\u001B[0m] - No prototype phi_0 set for actuator1. Using default values!\u001B[0m\n",
      "[\u001B[36m2024-05-22 09:33:53,296\u001B[0m][\u001B[34martist.scenario\u001B[0m][\u001B[33mWARNING\u001B[0m] - No prototype actuator_increment set for actuator2. Using default values!\u001B[0m\n",
      "[\u001B[36m2024-05-22 09:33:53,296\u001B[0m][\u001B[34martist.scenario\u001B[0m][\u001B[33mWARNING\u001B[0m] - No prototype initial_stroke_length set for actuator2. Using default values!\u001B[0m\n",
      "[\u001B[36m2024-05-22 09:33:53,297\u001B[0m][\u001B[34martist.scenario\u001B[0m][\u001B[33mWARNING\u001B[0m] - No prototype offset set for actuator2. Using default values!\u001B[0m\n",
      "[\u001B[36m2024-05-22 09:33:53,297\u001B[0m][\u001B[34martist.scenario\u001B[0m][\u001B[33mWARNING\u001B[0m] - No prototype radius set for actuator2. Using default values!\u001B[0m\n",
      "[\u001B[36m2024-05-22 09:33:53,297\u001B[0m][\u001B[34martist.scenario\u001B[0m][\u001B[33mWARNING\u001B[0m] - No prototype phi_0 set for actuator2. Using default values!\u001B[0m\n",
      "[\u001B[36m2024-05-22 09:33:53,298\u001B[0m][\u001B[34martist.field.heliostat_field\u001B[0m][\u001B[32mINFO\u001B[0m] - Loading a heliostat field from an HDF5 file.\u001B[0m\n",
      "[\u001B[36m2024-05-22 09:33:53,298\u001B[0m][\u001B[34martist.field.heliostat\u001B[0m][\u001B[32mINFO\u001B[0m] - Loading heliostat1 from an HDF5 file.\u001B[0m\n",
      "[\u001B[36m2024-05-22 09:33:53,299\u001B[0m][\u001B[34martist.field.heliostat\u001B[0m][\u001B[32mINFO\u001B[0m] - Individual surface parameters not provided - loading a heliostat with the surface prototype.\u001B[0m\n",
      "[\u001B[36m2024-05-22 09:33:53,299\u001B[0m][\u001B[34martist.field.heliostat\u001B[0m][\u001B[32mINFO\u001B[0m] - Individual kinematic configuration not provided - loading a heliostat with the kinematic prototype.\u001B[0m\n",
      "[\u001B[36m2024-05-22 09:33:53,300\u001B[0m][\u001B[34martist.field.heliostat\u001B[0m][\u001B[32mINFO\u001B[0m] - Individual actuator configurations not provided - loading a heliostat with the actuator prototype.\u001B[0m\n"
     ]
    }
   ],
   "source": [
    "with h5py.File(f'{ARTIST_ROOT}/scenarios/tutorial_scenario.h5', 'r') as f:\n",
    "    example_scenario = Scenario.load_scenario_from_hdf5(scenario_file=f)"
   ],
   "metadata": {
    "collapsed": false,
    "ExecuteTime": {
     "end_time": "2024-05-22T07:33:53.317611Z",
     "start_time": "2024-05-22T07:33:53.277649Z"
    }
   },
   "id": "b3c346697167445",
   "execution_count": 35
  },
  {
   "cell_type": "code",
   "outputs": [
    {
     "data": {
      "text/plain": "ARTIST Scenario containing:\n\tReceivers: 1, \tLight Sources: 1,\t Heliostats: 1"
     },
     "execution_count": 36,
     "metadata": {},
     "output_type": "execute_result"
    }
   ],
   "source": [
    "example_scenario"
   ],
   "metadata": {
    "collapsed": false,
    "ExecuteTime": {
     "end_time": "2024-05-22T07:33:53.320323Z",
     "start_time": "2024-05-22T07:33:53.303072Z"
    }
   },
   "id": "155b79cde80d7064",
   "execution_count": 36
  },
  {
   "cell_type": "code",
   "outputs": [],
   "source": [
    "single_heliostat = example_scenario.heliostats.heliostat_list[0]"
   ],
   "metadata": {
    "collapsed": false,
    "ExecuteTime": {
     "end_time": "2024-05-22T07:33:53.320526Z",
     "start_time": "2024-05-22T07:33:53.306439Z"
    }
   },
   "id": "b7773deffe745647",
   "execution_count": 37
  },
  {
   "cell_type": "code",
   "outputs": [
    {
     "data": {
      "text/plain": "tensor([0., 5., 0., 1.])"
     },
     "execution_count": 38,
     "metadata": {},
     "output_type": "execute_result"
    }
   ],
   "source": [
    "single_heliostat.position"
   ],
   "metadata": {
    "collapsed": false,
    "ExecuteTime": {
     "end_time": "2024-05-22T07:33:53.320742Z",
     "start_time": "2024-05-22T07:33:53.309654Z"
    }
   },
   "id": "26bdf6ec30f86584",
   "execution_count": 38
  },
  {
   "cell_type": "code",
   "outputs": [
    {
     "data": {
      "text/plain": "tensor([  0., -50.,   0.,   1.])"
     },
     "execution_count": 39,
     "metadata": {},
     "output_type": "execute_result"
    }
   ],
   "source": [
    "single_heliostat.aim_point"
   ],
   "metadata": {
    "collapsed": false,
    "ExecuteTime": {
     "end_time": "2024-05-22T07:33:53.320938Z",
     "start_time": "2024-05-22T07:33:53.313118Z"
    }
   },
   "id": "21f3d02986350156",
   "execution_count": 39
  },
  {
   "cell_type": "code",
   "outputs": [],
   "source": [
    "light_from_south = torch.tensor([0.0, -1.0, 0.0, 0.0])"
   ],
   "metadata": {
    "collapsed": false,
    "ExecuteTime": {
     "end_time": "2024-05-22T07:33:54.937040Z",
     "start_time": "2024-05-22T07:33:54.934133Z"
    }
   },
   "id": "8ee7841ca3781d71",
   "execution_count": 41
  },
  {
   "cell_type": "code",
   "outputs": [],
   "source": [
    "single_heliostat.set_aligned_surface(incident_ray_direction=light_from_south)"
   ],
   "metadata": {
    "collapsed": false,
    "ExecuteTime": {
     "end_time": "2024-05-22T07:33:56.544855Z",
     "start_time": "2024-05-22T07:33:54.938343Z"
    }
   },
   "id": "732d9a7c78ff458c",
   "execution_count": 42
  },
  {
   "cell_type": "code",
   "outputs": [
    {
     "data": {
      "text/plain": "tensor([[-0.0043,  1.0000,  0.0049,  0.0000],\n        [-0.0044,  1.0000,  0.0049,  0.0000],\n        [-0.0044,  1.0000,  0.0049,  0.0000],\n        [-0.0045,  1.0000,  0.0048,  0.0000],\n        [-0.0046,  1.0000,  0.0047,  0.0000]], grad_fn=<SliceBackward0>)"
     },
     "execution_count": 70,
     "metadata": {},
     "output_type": "execute_result"
    }
   ],
   "source": [
    "single_heliostat.current_aligned_surface_normals[0,0:5,:]"
   ],
   "metadata": {
    "collapsed": false,
    "ExecuteTime": {
     "end_time": "2024-05-22T07:42:36.665797Z",
     "start_time": "2024-05-22T07:42:36.662538Z"
    }
   },
   "id": "14fde934f1e0806f",
   "execution_count": 70
  },
  {
   "cell_type": "code",
   "outputs": [],
   "source": [
    "single_heliostat.set_preferred_reflection_direction(\n",
    "        rays=-light_from_south)"
   ],
   "metadata": {
    "collapsed": false,
    "ExecuteTime": {
     "end_time": "2024-05-22T07:33:56.552074Z",
     "start_time": "2024-05-22T07:33:56.548949Z"
    }
   },
   "id": "cb4a7c5ffc7f8dba",
   "execution_count": 44
  },
  {
   "cell_type": "code",
   "outputs": [
    {
     "data": {
      "text/plain": "torch.Size([4, 10000, 4])"
     },
     "execution_count": 45,
     "metadata": {},
     "output_type": "execute_result"
    }
   ],
   "source": [
    "single_heliostat.preferred_reflection_direction.shape"
   ],
   "metadata": {
    "collapsed": false,
    "ExecuteTime": {
     "end_time": "2024-05-22T07:33:56.554935Z",
     "start_time": "2024-05-22T07:33:56.551932Z"
    }
   },
   "id": "5cb5ff1bbd4fd258",
   "execution_count": 45
  },
  {
   "cell_type": "code",
   "outputs": [
    {
     "data": {
      "text/plain": "tensor([[ 0.0086, -0.9999, -0.0098, -0.0000],\n        [ 0.0087, -0.9999, -0.0098, -0.0000],\n        [ 0.0089, -0.9999, -0.0098, -0.0000],\n        [ 0.0090, -0.9999, -0.0097, -0.0000],\n        [ 0.0093, -0.9999, -0.0095, -0.0000],\n        [ 0.0099, -0.9999, -0.0086, -0.0000],\n        [ 0.0038, -0.9998, -0.0185,  0.0000],\n        [ 0.0087, -0.9999, -0.0109,  0.0000],\n        [ 0.0091, -0.9999, -0.0101,  0.0000],\n        [ 0.0091, -0.9999, -0.0097,  0.0000]], grad_fn=<SliceBackward0>)"
     },
     "execution_count": 46,
     "metadata": {},
     "output_type": "execute_result"
    }
   ],
   "source": [
    "single_heliostat.preferred_reflection_direction[0,0:10,:]"
   ],
   "metadata": {
    "collapsed": false,
    "ExecuteTime": {
     "end_time": "2024-05-22T07:33:56.557706Z",
     "start_time": "2024-05-22T07:33:56.554693Z"
    }
   },
   "id": "3b0ad3d8f65b963b",
   "execution_count": 46
  },
  {
   "cell_type": "code",
   "outputs": [],
   "source": [
    "raytracer = HeliostatRayTracer(\n",
    "        scenario=example_scenario,batch_size=10\n",
    "    )"
   ],
   "metadata": {
    "collapsed": false,
    "ExecuteTime": {
     "end_time": "2024-05-22T07:33:56.714648Z",
     "start_time": "2024-05-22T07:33:56.557894Z"
    }
   },
   "id": "fe3977ae4784922e",
   "execution_count": 47
  },
  {
   "cell_type": "code",
   "outputs": [],
   "source": [
    "# Perform heliostat-based raytracing.\n",
    "image_from_south = raytracer.trace_rays()"
   ],
   "metadata": {
    "collapsed": false,
    "ExecuteTime": {
     "end_time": "2024-05-22T07:33:57.323964Z",
     "start_time": "2024-05-22T07:33:56.714997Z"
    }
   },
   "id": "f5b9597126030aff",
   "execution_count": 48
  },
  {
   "cell_type": "code",
   "outputs": [],
   "source": [
    "image_from_south = raytracer.normalize_bitmap(image_from_south)"
   ],
   "metadata": {
    "collapsed": false,
    "ExecuteTime": {
     "end_time": "2024-05-22T07:33:57.326466Z",
     "start_time": "2024-05-22T07:33:57.324291Z"
    }
   },
   "id": "3005abc5b25a2ad4",
   "execution_count": 49
  },
  {
   "cell_type": "code",
   "outputs": [
    {
     "data": {
      "text/plain": "<Figure size 600x600 with 1 Axes>",
      "image/png": "[encoded data removed]"
     },
     "metadata": {},
     "output_type": "display_data"
    }
   ],
   "source": [
    "from matplotlib.pyplot import tight_layout\n",
    "\n",
    "fig, ax = plt.subplots(figsize=(6,6))\n",
    "ax.imshow(image_from_south.T.detach().numpy(), cmap='inferno')\n",
    "tight_layout()"
   ],
   "metadata": {
    "collapsed": false,
    "ExecuteTime": {
     "end_time": "2024-05-22T07:41:01.890570Z",
     "start_time": "2024-05-22T07:41:01.805067Z"
    }
   },
   "id": "8e99e9a494d5347a",
   "execution_count": 68
  }
 ],
 "metadata": {
  "kernelspec": {
   "display_name": "Python 3",
   "language": "python",
   "name": "python3"
  },
  "language_info": {
   "codemirror_mode": {
    "name": "ipython",
    "version": 2
   },
   "file_extension": ".py",
   "mimetype": "text/x-python",
   "name": "python",
   "nbconvert_exporter": "python",
   "pygments_lexer": "ipython2",
   "version": "2.7.6"
  }
 },
 "nbformat": 4,
 "nbformat_minor": 5
}
